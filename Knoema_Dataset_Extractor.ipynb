{
  "nbformat": 4,
  "nbformat_minor": 0,
  "metadata": {
    "colab": {
      "name": "Knoema Dataset Extractor.ipynb",
      "provenance": [],
      "collapsed_sections": [],
      "toc_visible": true,
      "authorship_tag": "ABX9TyPOuArwqM1sknALilpJok0H",
      "include_colab_link": true
    },
    "kernelspec": {
      "name": "python3",
      "display_name": "Python 3"
    }
  },
  "cells": [
    {
      "cell_type": "markdown",
      "metadata": {
        "id": "view-in-github",
        "colab_type": "text"
      },
      "source": [
        "<a href=\"https://colab.research.google.com/github/doctorice/knoema-extractor/blob/master/Knoema_Dataset_Extractor.ipynb\" target=\"_parent\"><img src=\"https://colab.research.google.com/assets/colab-badge.svg\" alt=\"Open In Colab\"/></a>"
      ]
    },
    {
      "cell_type": "markdown",
      "metadata": {
        "id": "enUHIq-g8CRB",
        "colab_type": "text"
      },
      "source": [
        "# Knoema Dataset Extractor\n",
        "\n",
        "---\n",
        "> A tool created of the paper; ***Development of Prediction Model thru Regression Analysis of Carbon Dioxide in the Philippines and its Irreversible Effects.***\n",
        "\n",
        "**Drice, Andrei James C.; Leynes Gregg; et. al**\n",
        "\n",
        "University of The East 2020\n"
      ]
    },
    {
      "cell_type": "markdown",
      "metadata": {
        "id": "Bz7j7zOb9y6U",
        "colab_type": "text"
      },
      "source": [
        "# Usage\n",
        "\n",
        "\n",
        "---\n",
        "\n",
        "\n",
        "\n",
        "\n",
        "1.   To extract Public Datasets in [Knoema](https://knoema.com) repositories.\n",
        "2.   To save it as excel file format and csv format.\n",
        "\n"
      ]
    },
    {
      "cell_type": "markdown",
      "metadata": {
        "id": "e9raebNc-nv_",
        "colab_type": "text"
      },
      "source": [
        "# Steps\n",
        "\n",
        "\n",
        "---\n",
        "\n",
        "\n",
        "\n",
        "**Step 1:** Run the cell below to import necessary Python modules and pre-requisites."
      ]
    },
    {
      "cell_type": "code",
      "metadata": {
        "id": "Md0AAxyZ-m0l",
        "colab_type": "code",
        "colab": {}
      },
      "source": [
        "!pip install -U knoema\n",
        "import knoema\n",
        "import pandas\n",
        "import numpy as np\n",
        "from pandas import ExcelWriter\n",
        "from google.colab import files\n",
        "\n",
        "\n",
        "\n"
      ],
      "execution_count": 0,
      "outputs": []
    },
    {
      "cell_type": "markdown",
      "metadata": {
        "id": "ZNtWT_9eAMCY",
        "colab_type": "text"
      },
      "source": [
        "**Step 2:** \n",
        "\n",
        "1.   Go to a specific Knoema dataset and click *'Explore data'* button\n",
        "2.   Click *'API > Python'* and copy the code\n",
        "3. Paste the code in the cell below after the `dataframe = `.\n",
        "example:\n",
        "```\n",
        "dataframe = knoema.get('EDGARED2019',, timerange='1970-2018', frequency='A', Location='PH', Indicator='KN.B4', Type='KN.T1')\n",
        "```\n",
        "\n",
        "\n"
      ]
    },
    {
      "cell_type": "code",
      "metadata": {
        "id": "cQuTmfQsCnkq",
        "colab_type": "code",
        "colab": {}
      },
      "source": [
        "dataframe = "
      ],
      "execution_count": 0,
      "outputs": []
    },
    {
      "cell_type": "markdown",
      "metadata": {
        "id": "QNhDGvR9Ct3r",
        "colab_type": "text"
      },
      "source": [
        "**Step 3:** Input the file name as a `name` variable"
      ]
    },
    {
      "cell_type": "code",
      "metadata": {
        "id": "mENyRCf8NDUH",
        "colab_type": "code",
        "colab": {}
      },
      "source": [
        "name = \"\"\n",
        "#insert the filenaname inside the quotation mark\n"
      ],
      "execution_count": 0,
      "outputs": []
    },
    {
      "cell_type": "markdown",
      "metadata": {
        "id": "7Xol5FbYcrWu",
        "colab_type": "text"
      },
      "source": [
        "**Step 4:** run the code below to save it into csv/xlsx format."
      ]
    },
    {
      "cell_type": "code",
      "metadata": {
        "id": "OfxJEifRYv7A",
        "colab_type": "code",
        "colab": {}
      },
      "source": [
        "#DF TO CSV\n",
        "writer = ExcelWriter(f'{name}.xlsx')\n",
        "dataframe.to_excel(writer,'Sheet1')\n",
        "writer.save()\n",
        "\n",
        "# DF TO CSV\n",
        "dataframe.to_csv(f'{name}.csv', sep=',')"
      ],
      "execution_count": 0,
      "outputs": []
    },
    {
      "cell_type": "markdown",
      "metadata": {
        "id": "gPNshGngd-sq",
        "colab_type": "text"
      },
      "source": [
        "**Step 5:** if you are using Google Colaboratory, you can use the cells below to download the files.\n",
        "\n",
        "If you got a **FAILED TO FETCH** Error, re-run the cell again."
      ]
    },
    {
      "cell_type": "code",
      "metadata": {
        "id": "CwOyBgFydzDZ",
        "colab_type": "code",
        "colab": {}
      },
      "source": [
        "files.download(f'{name}.xlsx') # DOWNLOAD THE EXCEL FILE"
      ],
      "execution_count": 0,
      "outputs": []
    },
    {
      "cell_type": "code",
      "metadata": {
        "id": "YBJF8GUHdk9x",
        "colab_type": "code",
        "colab": {}
      },
      "source": [
        "files.download(f'{name}.csv') # DOWNLOAD THE CSV FILE"
      ],
      "execution_count": 0,
      "outputs": []
    },
    {
      "cell_type": "markdown",
      "metadata": {
        "id": "2BKwm0jDe-Lk",
        "colab_type": "text"
      },
      "source": [
        "# MIT LICENSE\n",
        "\n",
        "\n",
        "---\n",
        "\n",
        "\n",
        "Copyright 2020 Andrei James Drice\n",
        "\n",
        "Permission is hereby granted, free of charge, to any person obtaining a copy of this software and associated documentation files (the \"Software\"), to deal in the Software without restriction, including without limitation the rights to use, copy, modify, merge, publish, distribute, sublicense, and/or sell copies of the Software, and to permit persons to whom the Software is furnished to do so, subject to the following conditions:\n",
        "\n",
        "The above copyright notice and this permission notice shall be included in all copies or substantial portions of the Software.\n",
        "\n",
        "THE SOFTWARE IS PROVIDED \"AS IS\", WITHOUT WARRANTY OF ANY KIND, EXPRESS OR IMPLIED, INCLUDING BUT NOT LIMITED TO THE WARRANTIES OF MERCHANTABILITY, FITNESS FOR A PARTICULAR PURPOSE AND NONINFRINGEMENT. IN NO EVENT SHALL THE AUTHORS OR COPYRIGHT HOLDERS BE LIABLE FOR ANY CLAIM, DAMAGES OR OTHER LIABILITY, WHETHER IN AN ACTION OF CONTRACT, TORT OR OTHERWISE, ARISING FROM, OUT OF OR IN CONNECTION WITH THE SOFTWARE OR THE USE OR OTHER DEALINGS IN THE SOFTWARE."
      ]
    }
  ]
}